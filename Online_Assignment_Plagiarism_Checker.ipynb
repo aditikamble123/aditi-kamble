{
  "nbformat": 4,
  "nbformat_minor": 0,
  "metadata": {
    "colab": {
      "provenance": [],
      "authorship_tag": "ABX9TyOdWT9VkfykR6MM1L83UV9i",
      "include_colab_link": true
    },
    "kernelspec": {
      "name": "python3",
      "display_name": "Python 3"
    },
    "language_info": {
      "name": "python"
    }
  },
  "cells": [
    {
      "cell_type": "markdown",
      "metadata": {
        "id": "view-in-github",
        "colab_type": "text"
      },
      "source": [
        "<a href=\"https://colab.research.google.com/github/aditikamble123/aditi-kamble/blob/main/Online_Assignment_Plagiarism_Checker.ipynb\" target=\"_parent\"><img src=\"https://colab.research.google.com/assets/colab-badge.svg\" alt=\"Open In Colab\"/></a>"
      ]
    },
    {
      "cell_type": "code",
      "source": [
        "import nltk\n",
        "from nltk.tokenize import word_tokenize\n",
        "from sklearn.feature_extraction.text import TfidfVectorizer\n",
        "from sklearn.metrics.pairwise import cosine_similarity"
      ],
      "metadata": {
        "id": "fAXt2Vm591mQ"
      },
      "execution_count": 1,
      "outputs": []
    },
    {
      "cell_type": "code",
      "source": [
        "# prompt: download dataset of student assignment\n",
        "\n",
        "import nltk\n",
        "from nltk.tokenize import word_tokenize\n",
        "from sklearn.feature_extraction.text import TfidfVectorizer\n",
        "from sklearn.metrics.pairwise import cosine_similarity\n",
        "\n",
        "!wget http://nlp.stanford.edu/data/glove.6B.zip\n",
        "!unzip glove*.zip\n"
      ],
      "metadata": {
        "colab": {
          "base_uri": "https://localhost:8080/"
        },
        "id": "aFf7LCZ0-Dmc",
        "outputId": "0fd05239-647d-4572-dcfc-48093ab67522"
      },
      "execution_count": 5,
      "outputs": [
        {
          "output_type": "stream",
          "name": "stdout",
          "text": [
            "--2024-08-18 10:12:51--  http://nlp.stanford.edu/data/glove.6B.zip\n",
            "Resolving nlp.stanford.edu (nlp.stanford.edu)... 171.64.67.140\n",
            "Connecting to nlp.stanford.edu (nlp.stanford.edu)|171.64.67.140|:80... connected.\n",
            "HTTP request sent, awaiting response... 302 Found\n",
            "Location: https://nlp.stanford.edu/data/glove.6B.zip [following]\n",
            "--2024-08-18 10:12:52--  https://nlp.stanford.edu/data/glove.6B.zip\n",
            "Connecting to nlp.stanford.edu (nlp.stanford.edu)|171.64.67.140|:443... connected.\n",
            "HTTP request sent, awaiting response... 301 Moved Permanently\n",
            "Location: https://downloads.cs.stanford.edu/nlp/data/glove.6B.zip [following]\n",
            "--2024-08-18 10:12:52--  https://downloads.cs.stanford.edu/nlp/data/glove.6B.zip\n",
            "Resolving downloads.cs.stanford.edu (downloads.cs.stanford.edu)... 171.64.64.22\n",
            "Connecting to downloads.cs.stanford.edu (downloads.cs.stanford.edu)|171.64.64.22|:443... connected.\n",
            "HTTP request sent, awaiting response... 200 OK\n",
            "Length: 862182613 (822M) [application/zip]\n",
            "Saving to: ‘glove.6B.zip’\n",
            "\n",
            "glove.6B.zip        100%[===================>] 822.24M  5.03MB/s    in 2m 39s  \n",
            "\n",
            "2024-08-18 10:15:31 (5.18 MB/s) - ‘glove.6B.zip’ saved [862182613/862182613]\n",
            "\n",
            "Archive:  glove.6B.zip\n",
            "  inflating: glove.6B.50d.txt        \n",
            "  inflating: glove.6B.100d.txt       \n",
            "  inflating: glove.6B.200d.txt       \n",
            "  inflating: glove.6B.300d.txt       \n"
          ]
        }
      ]
    },
    {
      "cell_type": "code",
      "source": [
        "def load_submissions():\n",
        "    submissions = []\n",
        "    num_submissions = int(input(\"Enter the number of student submissions: \"))\n",
        "    for i in range(num_submissions):\n",
        "        submission = input(f\"Enter submission {i+1}: \")\n",
        "        submissions.append(submission)\n",
        "    return submissions"
      ],
      "metadata": {
        "id": "pDEpIaZ__cmj"
      },
      "execution_count": 18,
      "outputs": []
    },
    {
      "cell_type": "code",
      "source": [
        "def preprocess_text(submissions):\n",
        "    tokenized_submissions = [\" \".join(word_tokenize(submission)) for submission in submissions] # Join the tokens back into a string\n",
        "    return tokenized_submissions"
      ],
      "metadata": {
        "id": "7C8jUsjiAr8C"
      },
      "execution_count": 25,
      "outputs": []
    },
    {
      "cell_type": "code",
      "source": [
        "def calculate_similarity(tokenized_submissions):\n",
        "    vectorizer = TfidfVectorizer()\n",
        "    tfidf_vectors = vectorizer.fit_transform(tokenized_submissions)\n",
        "    similarity_matrix = cosine_similarity(tfidf_vectors)\n",
        "    return similarity_matrix\n"
      ],
      "metadata": {
        "id": "svcd4D1TAoPW"
      },
      "execution_count": 20,
      "outputs": []
    },
    {
      "cell_type": "code",
      "source": [
        "def identify_similar_submissions(similarity_matrix, threshold):\n",
        "    similar_submissions = []\n",
        "    for i in range(len(similarity_matrix)):\n",
        "        for j in range(i+1, len(similarity_matrix)):\n",
        "            similarity = similarity_matrix[i, j]\n",
        "            if similarity > threshold:\n",
        "                similar_submissions.append((i, j, similarity))\n",
        "    return similar_submissions\n"
      ],
      "metadata": {
        "id": "SXiU0N5KA5Fe"
      },
      "execution_count": 21,
      "outputs": []
    },
    {
      "cell_type": "code",
      "source": [
        "def main():\n",
        "    print(\"Welcome to the Plagiarism Checker!\")\n",
        "    submissions = load_submissions()\n",
        "    tokenized_submissions = preprocess_text(submissions)\n",
        "    similarity_matrix = calculate_similarity(tokenized_submissions)\n",
        "    threshold = float(input(\"Enter the similarity threshold (between 0 and 1): \"))\n",
        "    similar_submissions = identify_similar_submissions(similarity_matrix, threshold)\n",
        "    if similar_submissions:\n",
        "        print(\"Similar submissions found:\")\n",
        "        for submission in similar_submissions:\n",
        "            print(f\"Submission {submission[0]+1} and Submission {submission[1]+1} have a similarity of {submission[2]:.2f}\")\n",
        "    else:\n",
        "        print(\"No similar submissions found.\")"
      ],
      "metadata": {
        "id": "Ei7DTnvWBvYX"
      },
      "execution_count": 22,
      "outputs": []
    },
    {
      "cell_type": "code",
      "source": [
        "if __name__ == \"__main__\":\n",
        "    main()"
      ],
      "metadata": {
        "colab": {
          "base_uri": "https://localhost:8080/"
        },
        "id": "2bSm9R7aBycY",
        "outputId": "11df0985-3527-46a2-81dc-2113d5126066"
      },
      "execution_count": 30,
      "outputs": [
        {
          "output_type": "stream",
          "name": "stdout",
          "text": [
            "Welcome to the Plagiarism Checker!\n",
            "Enter the number of student submissions: 2\n",
            "Enter submission 1: aditi kamble\n",
            "Enter submission 2: aditi lidbe\n",
            "Enter the similarity threshold (between 0 and 1): 0.5\n",
            "No similar submissions found.\n"
          ]
        }
      ]
    }
  ]
}