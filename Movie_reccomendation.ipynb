{
  "nbformat": 4,
  "nbformat_minor": 0,
  "metadata": {
    "colab": {
      "provenance": [],
      "authorship_tag": "ABX9TyPclV3WdgccOFagKmzbgSq6",
      "include_colab_link": true
    },
    "kernelspec": {
      "name": "python3",
      "display_name": "Python 3"
    },
    "language_info": {
      "name": "python"
    }
  },
  "cells": [
    {
      "cell_type": "markdown",
      "metadata": {
        "id": "view-in-github",
        "colab_type": "text"
      },
      "source": [
        "<a href=\"https://colab.research.google.com/github/aditikamble123/aditi-kamble/blob/main/Movie_reccomendation.ipynb\" target=\"_parent\"><img src=\"https://colab.research.google.com/assets/colab-badge.svg\" alt=\"Open In Colab\"/></a>"
      ]
    },
    {
      "cell_type": "code",
      "execution_count": 13,
      "metadata": {
        "colab": {
          "base_uri": "https://localhost:8080/"
        },
        "id": "vnB155qH4nmg",
        "outputId": "30f59c46-01f0-4457-ed61-642e8ea96e94"
      },
      "outputs": [
        {
          "output_type": "stream",
          "name": "stdout",
          "text": [
            "--2024-08-19 14:25:43--  http://files.grouplens.org/datasets/movielens/ml-latest-small.zip\n",
            "Resolving files.grouplens.org (files.grouplens.org)... 128.101.65.152\n",
            "Connecting to files.grouplens.org (files.grouplens.org)|128.101.65.152|:80... connected.\n",
            "HTTP request sent, awaiting response... 200 OK\n",
            "Length: 978202 (955K) [application/zip]\n",
            "Saving to: ‘ml-latest-small.zip.3’\n",
            "\n",
            "ml-latest-small.zip 100%[===================>] 955.28K  --.-KB/s    in 0.1s    \n",
            "\n",
            "2024-08-19 14:25:43 (8.05 MB/s) - ‘ml-latest-small.zip.3’ saved [978202/978202]\n",
            "\n",
            "Archive:  ml-latest-small.zip\n",
            "replace ml-latest-small/links.csv? [y]es, [n]o, [A]ll, [N]one, [r]ename: "
          ]
        }
      ],
      "source": [
        "# prompt: download dataset for movie reccoendation\n",
        "\n",
        "!wget http://files.grouplens.org/datasets/movielens/ml-latest-small.zip\n",
        "!unzip ml-latest-small.zip\n"
      ]
    },
    {
      "cell_type": "code",
      "source": [
        "# prompt: # Load the ratings CSV file\n",
        "\n",
        "import pandas as pd\n",
        "ratings = pd.read_csv('ml-latest-small/ratings.csv')\n"
      ],
      "metadata": {
        "id": "tz3rXtJu7up1"
      },
      "execution_count": 14,
      "outputs": []
    },
    {
      "cell_type": "code",
      "source": [
        "# prompt: # Load the movies CSV file\n",
        "\n",
        "import pandas as pd\n",
        "\n",
        "movies = pd.read_csv('ml-latest-small/movies.csv')\n"
      ],
      "metadata": {
        "id": "XcTR1IIR7zrE"
      },
      "execution_count": 15,
      "outputs": []
    },
    {
      "cell_type": "code",
      "source": [
        "# prompt: load the tags csv file\n",
        "\n",
        "import pandas as pd\n",
        "\n",
        "!wget http://files.grouplens.org/datasets/movielens/ml-latest-small.zip\n",
        "!unzip ml-latest-small.zip\n",
        "\n",
        "ratings = pd.read_csv('ml-latest-small/ratings.csv')\n",
        "movies = pd.read_csv('ml-latest-small/movies.csv')\n",
        "\n",
        "# Load the tags CSV file\n",
        "tags = pd.read_csv('ml-latest-small/tags.csv')\n"
      ],
      "metadata": {
        "colab": {
          "base_uri": "https://localhost:8080/"
        },
        "id": "BIateChFBQKt",
        "outputId": "c5eb3055-cb19-4114-8a4e-6d648b7127f1"
      },
      "execution_count": 16,
      "outputs": [
        {
          "output_type": "stream",
          "name": "stdout",
          "text": [
            "--2024-08-19 14:25:52--  http://files.grouplens.org/datasets/movielens/ml-latest-small.zip\n",
            "Resolving files.grouplens.org (files.grouplens.org)... 128.101.65.152\n",
            "Connecting to files.grouplens.org (files.grouplens.org)|128.101.65.152|:80... connected.\n",
            "HTTP request sent, awaiting response... 200 OK\n",
            "Length: 978202 (955K) [application/zip]\n",
            "Saving to: ‘ml-latest-small.zip.4’\n",
            "\n",
            "\rml-latest-small.zip   0%[                    ]       0  --.-KB/s               \rml-latest-small.zip 100%[===================>] 955.28K  --.-KB/s    in 0.1s    \n",
            "\n",
            "2024-08-19 14:25:52 (7.82 MB/s) - ‘ml-latest-small.zip.4’ saved [978202/978202]\n",
            "\n",
            "Archive:  ml-latest-small.zip\n",
            "replace ml-latest-small/links.csv? [y]es, [n]o, [A]ll, [N]one, [r]ename: "
          ]
        }
      ]
    },
    {
      "cell_type": "code",
      "source": [
        "# prompt: import surprise an surprise model library\n",
        "\n",
        "!pip install scikit-surprise\n"
      ],
      "metadata": {
        "id": "HAZMtwpKcCaK",
        "colab": {
          "base_uri": "https://localhost:8080/"
        },
        "outputId": "d4afefcc-4359-4bcc-c6ba-40fee7825905"
      },
      "execution_count": 17,
      "outputs": [
        {
          "output_type": "stream",
          "name": "stdout",
          "text": [
            "Requirement already satisfied: scikit-surprise in /usr/local/lib/python3.10/dist-packages (1.1.4)\n",
            "Requirement already satisfied: joblib>=1.2.0 in /usr/local/lib/python3.10/dist-packages (from scikit-surprise) (1.4.2)\n",
            "Requirement already satisfied: numpy>=1.19.5 in /usr/local/lib/python3.10/dist-packages (from scikit-surprise) (1.26.4)\n",
            "Requirement already satisfied: scipy>=1.6.0 in /usr/local/lib/python3.10/dist-packages (from scikit-surprise) (1.13.1)\n"
          ]
        }
      ]
    },
    {
      "cell_type": "code",
      "source": [
        "# prompt: create recommendation model and train it and make it user interface where the user can insert the movie name and erase past data\n",
        "\n",
        "from surprise import Reader, Dataset, SVD\n",
        "from surprise.model_selection import train_test_split\n",
        "from IPython.display import clear_output\n",
        "\n",
        "# Prepare data for Surprise library\n",
        "reader = Reader(rating_scale=(0.5, 5.0))\n",
        "data = Dataset.load_from_df(ratings[['userId', 'movieId', 'rating']], reader)\n",
        "\n",
        "# Train the model\n",
        "trainset, testset = train_test_split(data, test_size=.25)\n",
        "algo = SVD()\n",
        "algo.fit(trainset)\n",
        "\n",
        "# User interface\n",
        "while True:\n",
        "  movie_name = input(\"Enter a movie name (or 'q' to quit): \")\n",
        "  if movie_name.lower() == 'q':\n",
        "    break\n",
        "\n",
        "  # Find movie ID\n",
        "  movie_id = movies[movies['title'].str.lower() == movie_name.lower()]['movieId'].values\n",
        "  if movie_id.size == 0:\n",
        "    print(\"Movie not found.\")\n",
        "    continue\n",
        "  movie_id = movie_id[0]\n",
        "\n",
        "  # Get top 5 recommendations for the user\n",
        "  user_id = 1  # Replace with actual user ID if available\n",
        "  predictions = []\n",
        "  for i in movies['movieId'].unique():\n",
        "    if i != movie_id:\n",
        "      predictions.append((i, algo.predict(user_id, i).est))\n",
        "  predictions.sort(key=lambda x: x[1], reverse=True)\n",
        "  top_5 = predictions[:5]\n",
        "\n",
        "  # Display recommendations\n",
        "  print(\"Top 5 recommendations for you:\")\n",
        "  for movie_id, rating in top_5:\n",
        "    movie_title = movies[movies['movieId'] == movie_id]['title'].values[0]\n",
        "    print(f\"- {movie_title} (predicted rating: {rating:.2f})\")\n",
        "\n",
        "  # Clear past data\n",
        "  clear_output(wait=True)\n"
      ],
      "metadata": {
        "colab": {
          "base_uri": "https://localhost:8080/"
        },
        "id": "cDGUtfJ-AWwd",
        "outputId": "74da4211-401d-4c78-8cf9-1ecd787f1674"
      },
      "execution_count": null,
      "outputs": [
        {
          "output_type": "stream",
          "name": "stdout",
          "text": [
            "Enter a movie name (or 'q' to quit): Toy Story (1995)\n",
            "Top 5 recommendations for you:\n",
            "- Braveheart (1995) (predicted rating: 5.00)\n",
            "- Hoop Dreams (1994) (predicted rating: 5.00)\n",
            "- Star Wars: Episode IV - A New Hope (1977) (predicted rating: 5.00)\n",
            "- Shawshank Redemption, The (1994) (predicted rating: 5.00)\n",
            "- Schindler's List (1993) (predicted rating: 5.00)\n"
          ]
        }
      ]
    }
  ]
}